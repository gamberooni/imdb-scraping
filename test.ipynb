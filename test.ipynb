{
 "metadata": {
  "language_info": {
   "codemirror_mode": {
    "name": "ipython",
    "version": 3
   },
   "file_extension": ".py",
   "mimetype": "text/x-python",
   "name": "python",
   "nbconvert_exporter": "python",
   "pygments_lexer": "ipython3",
   "version": "3.6.9"
  },
  "orig_nbformat": 2,
  "kernelspec": {
   "name": "python3",
   "display_name": "Python 3.6.9 64-bit ('venv': venv)",
   "metadata": {
    "interpreter": {
     "hash": "859cd866ac5f2ea8e0e22dfa9bf0e3bf61c1ce37443d9650d96b543dc602f478"
    }
   }
  }
 },
 "nbformat": 4,
 "nbformat_minor": 2,
 "cells": [
  {
   "cell_type": "code",
   "execution_count": 3,
   "metadata": {},
   "outputs": [],
   "source": [
    "from minio import Minio"
   ]
  },
  {
   "cell_type": "code",
   "execution_count": 4,
   "metadata": {},
   "outputs": [],
   "source": [
    "client = Minio(\n",
    "    \"localhost:9000\",\n",
    "    access_key=\"admin\",\n",
    "    secret_key=\"password\",\n",
    "    secure=False,\n",
    ")\n"
   ]
  },
  {
   "cell_type": "code",
   "execution_count": 6,
   "metadata": {},
   "outputs": [
    {
     "output_type": "stream",
     "name": "stdout",
     "text": [
      "Bucket 'imdb' exists. Proceeding job.\n"
     ]
    }
   ],
   "source": [
    "BUCKET_NAME = \"imdb\"\n",
    "found = client.bucket_exists(BUCKET_NAME)\n",
    "if found:\n",
    "    print(f\"Bucket '{BUCKET_NAME}' exists. Proceeding job.\")\n",
    "else:\n",
    "    print(f\"Bucket '{BUCKET_NAME}' does not exist. Quitting job.\")"
   ]
  },
  {
   "cell_type": "code",
   "execution_count": 36,
   "metadata": {},
   "outputs": [
    {
     "output_type": "execute_result",
     "data": {
      "text/plain": [
       "['imdb/2021-04-03/anime_0.json', 'imdb/2021-04-03/anime_1.json']"
      ]
     },
     "metadata": {},
     "execution_count": 36
    }
   ],
   "source": [
    "def get_obj_filepaths(objects):\n",
    "    '''\n",
    "    Parameters\n",
    "    ----------\n",
    "    objects: MinIO Object\n",
    "        An iterator of Objects stored in MinIO Bucket\n",
    "    '''\n",
    "    filepaths = []\n",
    "    for obj in objects:\n",
    "    # {'_bucket_name': 'data', '_object_name': 'petronas/raw_data/DN_0005_D_11_M8Dec_filtered_180618_0955.csv', \n",
    "    #   '_last_modified': datetime.datetime(2021, 3, 18, 1, 42, 59, 439000, tzinfo=datetime.timezone.utc), \n",
    "    #   '_etag': '85951813368733551d7c8ada22923374', '_size': 118618497, '_metadata': {}, '_version_id': None, \n",
    "    #   '_is_latest': None, '_storage_class': 'STANDARD', '_owner_id': '', '_owner_name': '', '_content_type': None}\n",
    "        if obj.object_name.split('.')[-1] == \"json\":\n",
    "            filepaths.append(f\"{obj.bucket_name}/{obj.object_name}\")  \n",
    "\n",
    "    return filepaths \n",
    "\n",
    "FILE_PREFIX = \"2021-04-03/\"\n",
    "objects = client.list_objects(bucket_name=BUCKET_NAME, prefix=FILE_PREFIX)\n",
    "filepaths = get_obj_filepaths(objects)\n",
    "filepaths"
   ]
  },
  {
   "cell_type": "code",
   "execution_count": null,
   "metadata": {},
   "outputs": [],
   "source": []
  }
 ]
}